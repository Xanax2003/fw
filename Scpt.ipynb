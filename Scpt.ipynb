{
 "cells": [
  {
   "cell_type": "code",
   "execution_count": 3,
   "metadata": {},
   "outputs": [],
   "source": [
    "import requests\n",
    "import csv\n",
    "import time\n",
    "from git import Repo"
   ]
  },
  {
   "cell_type": "code",
   "execution_count": 4,
   "metadata": {},
   "outputs": [],
   "source": [
    "import pandas as pd\n",
    "def read_csv():\n",
    "    df=pd.read_csv('./vul4j_dataset.csv')\n",
    "    return df\n"
   ]
  },
  {
   "cell_type": "code",
   "execution_count": 20,
   "metadata": {},
   "outputs": [],
   "source": [
    "\n",
    "def prepare():\n",
    "    for index,row in df.iterrows():\n",
    "        repo_slug=row['repo_slug']\n",
    "        human_patch=row['human_patch']\n"
   ]
  },
  {
   "cell_type": "code",
   "execution_count": 43,
   "metadata": {},
   "outputs": [
    {
     "data": {
      "text/plain": [
       "'/home/lystcis/下载/BG'"
      ]
     },
     "execution_count": 43,
     "metadata": {},
     "output_type": "execute_result"
    }
   ],
   "source": [
    "import subprocess\n",
    "import git\n",
    "\n",
    "\n"
   ]
  },
  {
   "cell_type": "code",
   "execution_count": 44,
   "metadata": {},
   "outputs": [
    {
     "name": "stderr",
     "output_type": "stream",
     "text": [
      "正克隆到 'fastjson'...\n"
     ]
    }
   ],
   "source": [
    "url='https://github.com/alibaba/fastjson'\n",
    "down_load_url=url+'.git'\n",
    "def git_clone(repo_url):\n",
    "    process=subprocess.Popen([\"git\",\"clone\",repo_url])\n",
    "    process.wait()\n",
    "git_clone(down_load_url)"
   ]
  },
  {
   "cell_type": "code",
   "execution_count": 45,
   "metadata": {},
   "outputs": [],
   "source": [
    "repo=Repo('./fastjson')"
   ]
  },
  {
   "cell_type": "code",
   "execution_count": 47,
   "metadata": {},
   "outputs": [
    {
     "data": {
      "text/plain": [
       "'/home/lystcis/下载/BG/fastjson'"
      ]
     },
     "execution_count": 47,
     "metadata": {},
     "output_type": "execute_result"
    }
   ],
   "source": [
    "import re\n",
    "import os\n",
    "\n",
    "working_dir='/home/lystcis/下载/BG/fastjson'\n",
    "os.chdir(working_dir)\n",
    "dir=os.getcwd()\n",
    "dir"
   ]
  },
  {
   "cell_type": "code",
   "execution_count": 56,
   "metadata": {},
   "outputs": [
    {
     "name": "stdout",
     "output_type": "stream",
     "text": [
      "git diff f5903fa56497c00ed0703ac875b511f9bd5f1d8e^..f5903fa56497c00ed0703ac875b511f9bd5f1d8e\n"
     ]
    }
   ],
   "source": [
    "commit_hash='f5903fa56497c00ed0703ac875b511f9bd5f1d8e'\n",
    "diff_command=f'git diff {commit_hash}^..{commit_hash}'\n",
    "\n",
    "print(diff_command)\n"
   ]
  },
  {
   "cell_type": "code",
   "execution_count": 58,
   "metadata": {},
   "outputs": [
    {
     "data": {
      "text/plain": [
       "'^..f5903fa56497c00ed0703ac875b511f9bd5f1d8e'"
      ]
     },
     "execution_count": 58,
     "metadata": {},
     "output_type": "execute_result"
    }
   ],
   "source": [
    "new_commit_hash=\"^..\"+commit_hash\n",
    "new_commit_hash"
   ]
  },
  {
   "cell_type": "code",
   "execution_count": 69,
   "metadata": {},
   "outputs": [],
   "source": [
    "diff_output = subprocess.Popen([\"git\", \"diff\",\"-bB\",commit_hash + \"^\", commit_hash], stdout=subprocess.PIPE, stderr=subprocess.PIPE)"
   ]
  },
  {
   "cell_type": "code",
   "execution_count": 70,
   "metadata": {},
   "outputs": [
    {
     "name": "stdout",
     "output_type": "stream",
     "text": [
      "diff --git a/src/main/java/com/alibaba/fastjson/serializer/ObjectArrayCodec.java b/src/main/java/com/alibaba/fastjson/serializer/ObjectArrayCodec.java\n",
      "index 9b8c0e3c1..77f2d63d9 100755\n",
      "--- a/src/main/java/com/alibaba/fastjson/serializer/ObjectArrayCodec.java\n",
      "+++ b/src/main/java/com/alibaba/fastjson/serializer/ObjectArrayCodec.java\n",
      "@@ -174,7 +174,7 @@ public class ObjectArrayCodec implements ObjectSerializer, ObjectDeserializer {\n",
      "             componentType = componentClass = clazz.getComponentType();\n",
      "         }\n",
      "         JSONArray array = new JSONArray();\n",
      "-        parser.parseArray(componentClass, array, fieldName);\n",
      "+        parser.parseArray(componentType, array, fieldName);\n",
      " \n",
      "         return (T) toObjectArray(parser, componentClass, array);\n",
      "     }\n",
      "diff --git a/src/test/java/com/alibaba/json/bvt/bug/Issue1005.java b/src/test/java/com/alibaba/json/bvt/bug/Issue1005.java\n",
      "index 2ceb034b8..aec293d74 100644\n",
      "--- a/src/test/java/com/alibaba/json/bvt/bug/Issue1005.java\n",
      "+++ b/src/test/java/com/alibaba/json/bvt/bug/Issue1005.java\n",
      "@@ -10,7 +10,18 @@ import java.util.List;\n",
      "  */\n",
      " public class Issue1005 extends TestCase {\n",
      "     public void test_for_issue() throws Exception {\n",
      "-        Model model = JSON.parseObject(\"{\\\"values\\\":[1,2,3]}\", Model.class);\n",
      "+        Model model = JSON.parseObject(\"{\\\"values\\\":[[1,2,3]]}\", Model.class);\n",
      "+\n",
      "+        assertNotNull(model.values);\n",
      "+        assertEquals(3, model.values[0].size());\n",
      "+        assertEquals(Byte.class, model.values[0].get(0).getClass());\n",
      "+        assertEquals(Byte.class, model.values[0].get(1).getClass());\n",
      "+        assertEquals(Byte.class, model.values[0].get(2).getClass());\n",
      "+    }\n",
      "+\n",
      "+    public void test_for_List() throws Exception {\n",
      "+        Model2 model = JSON.parseObject(\"{\\\"values\\\":[1,2,3]}\", Model2.class);\n",
      "+\n",
      "         assertNotNull(model.values);\n",
      "         assertEquals(3, model.values.size());\n",
      "         assertEquals(Byte.class, model.values.get(0).getClass());\n",
      "@@ -19,6 +30,10 @@ public class Issue1005 extends TestCase {\n",
      "     }\n",
      " \n",
      "     public static class Model {\n",
      "+        public List<Byte>[] values;\n",
      "+    }\n",
      "+\n",
      "+    public static class Model2 {\n",
      "         public List<Byte> values;\n",
      "     }\n",
      " }\n",
      "\n"
     ]
    }
   ],
   "source": [
    "stdout, stderr = diff_output.communicate()\n",
    "if diff_output.returncode != 0:\n",
    "    print(f\"Error occurred: {stderr.decode()}\")\n",
    "else:\n",
    "    diff_content = stdout.decode()\n",
    "    print(diff_content)"
   ]
  },
  {
   "cell_type": "code",
   "execution_count": 115,
   "metadata": {},
   "outputs": [],
   "source": [
    "diff_content\n",
    "def is_func(str):\n",
    "# 方法的修饰符用来判断一个方法\n",
    "    funcs = ['public','protected','private','static','final','synchronized','native','abstract']\n",
    "    for s in funcs:\n",
    "        index = str.find(s)\n",
    "        if (index != -1):\n",
    "            return index\n",
    "    return -1"
   ]
  },
  {
   "cell_type": "code",
   "execution_count": 116,
   "metadata": {},
   "outputs": [
    {
     "name": "stdout",
     "output_type": "stream",
     "text": [
      "set()\n",
      "set()\n",
      "set()\n",
      "set()\n",
      "set()\n",
      "set()\n",
      "set()\n",
      "set()\n",
      "set()\n",
      "set()\n",
      "set()\n",
      "set()\n",
      "set()\n"
     ]
    }
   ],
   "source": [
    "class DiffParser:\n",
    "    def __init__(self,diff_output):\n",
    "        self.lines=diff_output.splitlines(keepends=False)\n",
    "        self.hunks=[]\n",
    " \n",
    "    def file_count(self):\n",
    "        file=0\n",
    "        has_testfile=0\n",
    "        javafile=0\n",
    "        funcset=set()\n",
    "        for line in self.lines:\n",
    "            if line.startswith(\"diff\"):\n",
    "                file=file+1\n",
    "                #这一行就可以确认是不是测试文件\n",
    "                istestcase=0\n",
    "                #默认不是\n",
    "                pattern = \"^diff --git.*[Tt][eE][Ss][Tt].*$\"\n",
    "                #匹配字串\n",
    "                ans=re.search(pattern,line)\n",
    "                if ans!=None:\n",
    "                    istestcase=1\n",
    "                if line.endswith(\".java\"):\n",
    "                    javafile=javafile+1\n",
    "            if istestcase==1:\n",
    "                continue\n",
    "            #一直跳，直到下一个文件\n",
    "            #这里开始正常处理，判断函数并且添加到set中\n",
    "            if line.startswith('-') == False and is_func(line) != -1 and line.find('(') != -1 and line.find(')') != -1 :\n",
    "                index1 = is_func(st)\n",
    "                index2 = st.find(')')\n",
    "                stg = line[index1 : index2 + 1] \n",
    "                funcset.add(stg)\n",
    "            print(funcset)\n",
    "                        \n",
    "        \n",
    "\n",
    "    def parse(self):\n",
    "        pointer=-1\n",
    "        hunk=0\n",
    "        current_hunk=None\n",
    "        for index,line in enumerate(self.lines,start=1):\n",
    "         \n",
    "            if len(line)>=1:\n",
    "                if line[0]=='-' or line[0]=='+':\n",
    "                    print(\"[\",index,\"]\",line)\n",
    "                    if pointer==-1:\n",
    "                        pointer=index\n",
    "                        hunk=hunk+1\n",
    "                    else:\n",
    "                        if index==(pointer+1):\n",
    "                            pointer=index\n",
    "                        else:\n",
    "                            pointer=index\n",
    "                            hunk=hunk+1\n",
    "        print(hunk)\n",
    "    def prints(self):\n",
    "        for line in self.lines:\n",
    "            print(line)\n",
    "parser=DiffParser(diff_content)\n",
    "parser.file_count()\n",
    "\n"
   ]
  },
  {
   "cell_type": "code",
   "execution_count": 104,
   "metadata": {},
   "outputs": [
    {
     "name": "stdout",
     "output_type": "stream",
     "text": [
      "[]\n"
     ]
    }
   ],
   "source": []
  },
  {
   "cell_type": "code",
   "execution_count": null,
   "metadata": {},
   "outputs": [],
   "source": []
  }
 ],
 "metadata": {
  "kernelspec": {
   "display_name": "Python 3",
   "language": "python",
   "name": "python3"
  },
  "language_info": {
   "codemirror_mode": {
    "name": "ipython",
    "version": 3
   },
   "file_extension": ".py",
   "mimetype": "text/x-python",
   "name": "python",
   "nbconvert_exporter": "python",
   "pygments_lexer": "ipython3",
   "version": "3.10.12"
  }
 },
 "nbformat": 4,
 "nbformat_minor": 2
}
