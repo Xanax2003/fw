{
 "cells": [
  {
   "cell_type": "code",
   "execution_count": 4,
   "id": "initial_id",
   "metadata": {
    "collapsed": true,
    "ExecuteTime": {
     "end_time": "2024-04-27T11:34:54.284109Z",
     "start_time": "2024-04-27T11:34:54.279108Z"
    }
   },
   "outputs": [],
   "source": [
    "import requests\n",
    "import re\n",
    "import csv\n",
    "import pandas\n",
    "import time\n",
    "import numpy"
   ]
  },
  {
   "cell_type": "code",
   "outputs": [],
   "source": [
    "def has_test_case(line):\n",
    "   assert isinstance(line, str) ##断言，确保line是一个字符串\n",
    "   pattern = \"^diff --git.*Test.*$\"  ##定义正则表达式\n",
    "   ## ^ 匹配行的开头， 。* 匹配任意字符 Test 匹配Test，再匹配任意数量的字符，刀乐符匹配结尾\n",
    "   # re.match调用re的接口返回匹配对象，，bool将返回结果变为布尔值\n",
    "   return bool(re.match(pattern, line))"
   ],
   "metadata": {
    "collapsed": false,
    "ExecuteTime": {
     "end_time": "2024-04-27T11:34:13.149220Z",
     "start_time": "2024-04-27T11:34:13.140715Z"
    }
   },
   "id": "f6724668f5584a60",
   "execution_count": 2
  },
  {
   "cell_type": "code",
   "outputs": [],
   "source": [
    "def is_func(str):\n",
    "    ##传入一个字符串，然后判断这一行里面有没有属于下面关键字的字串，如果有返回位置，没有返回零\n",
    "    # 方法的修饰符用来判断一个方法\n",
    "    funcs = ['public','protected','private','static','final','synchronized','native','abstract']\n",
    "    for s in funcs:\n",
    "        index = str.find(s)\n",
    "        if (index != -1):\n",
    "            return index\n",
    "    return -1"
   ],
   "metadata": {
    "collapsed": false,
    "ExecuteTime": {
     "end_time": "2024-04-27T11:34:32.946111Z",
     "start_time": "2024-04-27T11:34:32.931991Z"
    }
   },
   "id": "5ea4c2d5ec24e147",
   "execution_count": 3
  },
  {
   "cell_type": "code",
   "outputs": [],
   "source": [
    "def get_repo_contents(prj, path=\"\"):\n",
    "    ## http请求获得仓库的的内容\n",
    "    url = f\"https://api.github.com/repos/prj/contents/{path}\"\n",
    "    time.sleep(6)\n",
    "    print(123)\n",
    "    response = requests.get(url)\n",
    "    if response.status_code == 200:\n",
    "        return response.json()\n",
    "    ##以json串的形式返回\n",
    "    else:\n",
    "        print(f\"Failed to retrieve repository contents for {path}.\")\n",
    "        return None"
   ],
   "metadata": {
    "collapsed": false,
    "ExecuteTime": {
     "end_time": "2024-04-27T11:35:06.351957Z",
     "start_time": "2024-04-27T11:35:06.333948Z"
    }
   },
   "id": "248c8851049834b7",
   "execution_count": 5
  },
  {
   "cell_type": "code",
   "outputs": [],
   "source": [
    "def get_test_files(prj, path=\"\", goal = \"\"):\n",
    "    #return False\n",
    "    def match_test_file(filename):\n",
    "        assert isinstance(filename, str)\n",
    "        pattern = \"^Test\" + re.escape(str) + \"$\" ##构造正则匹配，匹配test文件\n",
    "        return bool(re.match(pattern, filename))\n",
    "        # return True\n",
    "\n",
    "    contents = get_repo_contents(prj, path)\n",
    "    # file = open(output_file, \"a\")\n",
    "    if contents is not None:\n",
    "        for item in contents:\n",
    "            if item['type'] == 'file' and match_test_file(item['name']):\n",
    "                return True\n",
    "            elif item['type'] == 'dir':\n",
    "                return get_test_files(prj, item['path']) ##这里也是一个布尔值\n",
    "                # file.write(item['name'])\n",
    "    # file.close()\n",
    "    return False"
   ],
   "metadata": {
    "collapsed": false,
    "ExecuteTime": {
     "end_time": "2024-04-27T11:36:37.625867Z",
     "start_time": "2024-04-27T11:36:37.614717Z"
    }
   },
   "id": "9be076b6fa613600",
   "execution_count": 6
  },
  {
   "cell_type": "code",
   "outputs": [
    {
     "data": {
      "text/plain": "<Response [200]>"
     },
     "execution_count": 39,
     "metadata": {},
     "output_type": "execute_result"
    }
   ],
   "source": [
    "# 示例url\n",
    "url='https://github.com/alibaba/fastjson/commit/f5903fa56497c00ed0703ac875b511f9bd5f1d8e'\n",
    "res=requests.get(url)\n",
    "time.sleep(6)\n",
    "res"
   ],
   "metadata": {
    "collapsed": false,
    "ExecuteTime": {
     "end_time": "2024-04-27T12:04:21.070751Z",
     "start_time": "2024-04-27T12:04:14.083864Z"
    }
   },
   "id": "84788b16fb843168",
   "execution_count": 39
  },
  {
   "cell_type": "code",
   "outputs": [
    {
     "data": {
      "text/plain": "<Response [200]>"
     },
     "execution_count": 40,
     "metadata": {},
     "output_type": "execute_result"
    }
   ],
   "source": [
    "# 示例url\n",
    "url='https://github.com/alibaba/fastjson/commit/f5903fa56497c00ed0703ac875b511f9bd5f1d8e.diff'\n",
    "res=requests.get(url)\n",
    "time.sleep(6)\n",
    "res"
   ],
   "metadata": {
    "collapsed": false,
    "ExecuteTime": {
     "end_time": "2024-04-27T12:04:27.771593Z",
     "start_time": "2024-04-27T12:04:21.071995Z"
    }
   },
   "id": "479998e6f32d8739",
   "execution_count": 40
  },
  {
   "cell_type": "code",
   "outputs": [
    {
     "data": {
      "text/plain": "['diff --git a/src/main/java/com/alibaba/fastjson/serializer/ObjectArrayCodec.java b/src/main/java/com/alibaba/fastjson/serializer/ObjectArrayCodec.java',\n 'index 9b8c0e3c17..77f2d63d98 100755',\n '--- a/src/main/java/com/alibaba/fastjson/serializer/ObjectArrayCodec.java',\n '+++ b/src/main/java/com/alibaba/fastjson/serializer/ObjectArrayCodec.java',\n '@@ -174,7 +174,7 @@ public <T> T deserialze(DefaultJSONParser parser, Type type, Object fieldName) {',\n '             componentType = componentClass = clazz.getComponentType();',\n '         }',\n '         JSONArray array = new JSONArray();',\n '-        parser.parseArray(componentClass, array, fieldName);',\n '+        parser.parseArray(componentType, array, fieldName);',\n ' ',\n '         return (T) toObjectArray(parser, componentClass, array);',\n '     }',\n 'diff --git a/src/test/java/com/alibaba/json/bvt/bug/Issue1005.java b/src/test/java/com/alibaba/json/bvt/bug/Issue1005.java',\n 'index 2ceb034b87..aec293d74d 100644',\n '--- a/src/test/java/com/alibaba/json/bvt/bug/Issue1005.java',\n '+++ b/src/test/java/com/alibaba/json/bvt/bug/Issue1005.java',\n '@@ -10,7 +10,18 @@',\n '  */',\n ' public class Issue1005 extends TestCase {',\n '     public void test_for_issue() throws Exception {',\n '-        Model model = JSON.parseObject(\"{\\\\\"values\\\\\":[1,2,3]}\", Model.class);',\n '+        Model model = JSON.parseObject(\"{\\\\\"values\\\\\":[[1,2,3]]}\", Model.class);',\n '+',\n '+        assertNotNull(model.values);',\n '+        assertEquals(3, model.values[0].size());',\n '+        assertEquals(Byte.class, model.values[0].get(0).getClass());',\n '+        assertEquals(Byte.class, model.values[0].get(1).getClass());',\n '+        assertEquals(Byte.class, model.values[0].get(2).getClass());',\n '+    }',\n '+',\n '+    public void test_for_List() throws Exception {',\n '+        Model2 model = JSON.parseObject(\"{\\\\\"values\\\\\":[1,2,3]}\", Model2.class);',\n '+',\n '         assertNotNull(model.values);',\n '         assertEquals(3, model.values.size());',\n '         assertEquals(Byte.class, model.values.get(0).getClass());',\n '@@ -19,6 +30,10 @@ public void test_for_issue() throws Exception {',\n '     }',\n ' ',\n '     public static class Model {',\n '+        public List<Byte>[] values;',\n '+    }',\n '+',\n '+    public static class Model2 {',\n '         public List<Byte> values;',\n '     }',\n ' }']"
     },
     "execution_count": 41,
     "metadata": {},
     "output_type": "execute_result"
    }
   ],
   "source": [
    "s = res.text.splitlines(keepends = False)\n",
    "s"
   ],
   "metadata": {
    "collapsed": false,
    "ExecuteTime": {
     "end_time": "2024-04-27T12:04:29.004766Z",
     "start_time": "2024-04-27T12:04:28.990759Z"
    }
   },
   "id": "64c3aecfefc217da",
   "execution_count": 41
  },
  {
   "cell_type": "code",
   "outputs": [],
   "source": [
    "    file = 0\n",
    "    file_java = 0\n",
    "    func = 0\n",
    "    hunk = 0\n",
    "    ischange = 0\n",
    "    isTestcase = 0\n",
    "    iscomment = 0\n",
    "        # 使用set去重\n",
    "    funcset = set()"
   ],
   "metadata": {
    "collapsed": false,
    "ExecuteTime": {
     "end_time": "2024-04-27T12:04:31.679310Z",
     "start_time": "2024-04-27T12:04:31.660790Z"
    }
   },
   "id": "2444946ef9f0dedd",
   "execution_count": 42
  },
  {
   "cell_type": "code",
   "outputs": [
    {
     "name": "stdout",
     "output_type": "stream",
     "text": [
      "diff --git a/src/main/java/com/alibaba/fastjson/serializer/ObjectArrayCodec.java b/src/main/java/com/alibaba/fastjson/serializer/ObjectArrayCodec.java\n",
      "[+]\n",
      "index 9b8c0e3c17..77f2d63d98 100755\n",
      "[+]\n",
      "--- a/src/main/java/com/alibaba/fastjson/serializer/ObjectArrayCodec.java\n",
      "[+]\n",
      "+++ b/src/main/java/com/alibaba/fastjson/serializer/ObjectArrayCodec.java\n",
      "[+]\n",
      "@@ -174,7 +174,7 @@ public <T> T deserialze(DefaultJSONParser parser, Type type, Object fieldName) {\n",
      "[+]\n",
      "             componentType = componentClass = clazz.getComponentType();\n",
      "[+]\n",
      "         }\n",
      "[+]\n",
      "         JSONArray array = new JSONArray();\n",
      "[+]\n",
      "-        parser.parseArray(componentClass, array, fieldName);\n",
      "[+]\n",
      "+        parser.parseArray(componentType, array, fieldName);\n",
      "[+]\n",
      " \n",
      "[+]\n",
      "         return (T) toObjectArray(parser, componentClass, array);\n",
      "[+]\n",
      "     }\n",
      "[+]\n",
      "diff --git a/src/test/java/com/alibaba/json/bvt/bug/Issue1005.java b/src/test/java/com/alibaba/json/bvt/bug/Issue1005.java\n",
      "[+]\n",
      "index 2ceb034b87..aec293d74d 100644\n",
      "[+]\n",
      "--- a/src/test/java/com/alibaba/json/bvt/bug/Issue1005.java\n",
      "[+]\n",
      "+++ b/src/test/java/com/alibaba/json/bvt/bug/Issue1005.java\n",
      "[+]\n",
      "@@ -10,7 +10,18 @@\n",
      "[+]\n",
      "  */\n",
      "[+]\n",
      " public class Issue1005 extends TestCase {\n",
      "[+]\n",
      "     public void test_for_issue() throws Exception {\n",
      "[+]\n",
      "-        Model model = JSON.parseObject(\"{\\\"values\\\":[1,2,3]}\", Model.class);\n",
      "[+]\n",
      "+        Model model = JSON.parseObject(\"{\\\"values\\\":[[1,2,3]]}\", Model.class);\n",
      "[+]\n",
      "+\n",
      "[+]\n",
      "+        assertNotNull(model.values);\n",
      "[+]\n",
      "+        assertEquals(3, model.values[0].size());\n",
      "[+]\n",
      "+        assertEquals(Byte.class, model.values[0].get(0).getClass());\n",
      "[+]\n",
      "+        assertEquals(Byte.class, model.values[0].get(1).getClass());\n",
      "[+]\n",
      "+        assertEquals(Byte.class, model.values[0].get(2).getClass());\n",
      "[+]\n",
      "+    }\n",
      "[+]\n",
      "+\n",
      "[+]\n",
      "+    public void test_for_List() throws Exception {\n",
      "[+]\n",
      "+        Model2 model = JSON.parseObject(\"{\\\"values\\\":[1,2,3]}\", Model2.class);\n",
      "[+]\n",
      "+\n",
      "[+]\n",
      "         assertNotNull(model.values);\n",
      "[+]\n",
      "         assertEquals(3, model.values.size());\n",
      "[+]\n",
      "         assertEquals(Byte.class, model.values.get(0).getClass());\n",
      "[+]\n",
      "@@ -19,6 +30,10 @@ public void test_for_issue() throws Exception {\n",
      "[+]\n",
      "     }\n",
      "[+]\n",
      " \n",
      "[+]\n",
      "     public static class Model {\n",
      "[+]\n",
      "+        public List<Byte>[] values;\n",
      "[+]\n",
      "+    }\n",
      "[+]\n",
      "+\n",
      "[+]\n",
      "+    public static class Model2 {\n",
      "[+]\n",
      "         public List<Byte> values;\n",
      "[+]\n",
      "     }\n",
      "[+]\n",
      " }\n",
      "[+]\n"
     ]
    }
   ],
   "source": [
    "for st in s:\n",
    "    print(st)\n",
    "    print(\"[+]\")"
   ],
   "metadata": {
    "collapsed": false,
    "ExecuteTime": {
     "end_time": "2024-04-27T12:04:33.786524Z",
     "start_time": "2024-04-27T12:04:33.768490Z"
    }
   },
   "id": "f61deef4506ae0eb",
   "execution_count": 43
  },
  {
   "cell_type": "code",
   "outputs": [],
   "source": [
    "# 第一个元素是一个字符串，其中包含了一段Git格式的diff信息，用于表示文件的变更情况。让我解释一下这段diff信息：\n",
    "# \n",
    "# 'diff --git a/src/main/java/com/alibaba/fastjson/serializer/ObjectArrayCodec.java b/src/main/java/com/alibaba/fastjson/serializer/ObjectArrayCodec.java'：这是Git格式的diff头部信息，表示文件变更前后的路径。在这个例子中，它表示一个Java文件的路径从 a/src/main/java/com/alibaba/fastjson/serializer/ObjectArrayCodec.java 变更为 b/src/main/java/com/alibaba/fastjson/serializer/ObjectArrayCodec.java。\n",
    "# 'index 9b8c0e3c17..77f2d63d98 100755'：这行信息通常出现在diff头部，它指示了变更前后文件的版本号或哈希值。\n",
    "# '--- a/src/main/java/com/alibaba/fastjson/serializer/ObjectArrayCodec.java' 和 '+++ b/src/main/java/com/alibaba/fastjson/serializer/ObjectArrayCodec.java'：这两行信息指示了变更前后文件的路径。\n",
    "# '@@ -174,7 +174,7 @@ public <T> T deserialze(DefaultJSONParser parser, Type type, Object fieldName) {'：这是diff的行号信息，表示变更前后的行号范围。\n",
    "# ' componentType = componentClass = clazz.getComponentType();' 和 ' parser.parseArray(componentType, array, fieldName);'：这两行是具体的代码变更，表示文件中的某些行在变更前后发生了改变。"
   ],
   "metadata": {
    "collapsed": false
   },
   "id": "d8af2fafb8a3462d"
  },
  {
   "cell_type": "code",
   "outputs": [],
   "source": [
    "# Git格式的diff通常用于表示文件的变更情况，比如在版本控制系统中提交的代码变更。它具有一定的框架和格式，可以通过阅读和理解来了解文件的变更情况。下面是Git格式diff的一般框架和阅读方式：\n",
    "# \n",
    "# 框架：\n",
    "# 头部信息：通常以 diff --git 开始，包含了变更前后文件的路径和版本号信息。\n",
    "# 变更信息：列出了文件的变更情况，包括增加、删除和修改。\n",
    "# 行号信息：以 @@ 开始，指示了变更前后文件的行号范围。\n",
    "# 具体的代码变更：列出了文件中发生变更的具体行，包括变更前后的代码内容。\n",
    "# 阅读方式：\n",
    "# 头部信息：\n",
    "# 查看文件路径和版本号信息，了解变更前后文件的位置和版本。\n",
    "# 变更信息：\n",
    "# 查看每个文件的变更情况，包括新增、删除和修改。\n",
    "# 对于新增的文件，可以查看新增的文件路径和内容。\n",
    "# 对于删除的文件，可以查看删除的文件路径和内容。\n",
    "# 对于修改的文件，可以查看变更前后的文件路径和内容。\n",
    "# 行号信息：\n",
    "# 查看行号信息，了解变更前后的行号范围。\n",
    "# 具体的代码变更：\n",
    "# 根据行号信息查看具体的代码变更，包括变更前后的代码内容。\n",
    "# 示例：\n",
    "# diff\n",
    "# Copy code\n",
    "# diff --git a/src/main/java/com/example/MyClass.java b/src/main/java/com/example/MyClass.java\n",
    "# index 123456..789abc 100644\n",
    "# --- a/src/main/java/com/example/MyClass.java\n",
    "# +++ b/src/main/java/com/example/MyClass.java\n",
    "# @@ -1,5 +1,5 @@\n",
    "#  public class MyClass {\n",
    "# -    private String name;\n",
    "# +    private String firstName;\n",
    "#  \n",
    "# -    public MyClass(String name) {\n",
    "# +    public MyClass(String firstName) {\n",
    "#          this.name = name;\n",
    "#      }\n",
    "#  }\n",
    "# 在这个示例中：\n",
    "# \n",
    "# 头部信息指示了变更前后文件的路径和版本号。\n",
    "# 变更信息表示文件发生了修改，从 -1,5 +1,5 可以看出是从第1行开始，修改了5行。\n",
    "# 行号信息 @@ -1,5 +1,5 @@ 指示了变更前后的行号范围。\n",
    "# 具体的代码变更显示了修改前后的代码内容，比如将 private String name; 修改为 private String firstName;。"
   ],
   "metadata": {
    "collapsed": false
   },
   "id": "a884dc639f70b834"
  },
  {
   "cell_type": "code",
   "outputs": [
    {
     "name": "stdout",
     "output_type": "stream",
     "text": [
      "diff --git a/src/main/java/com/alibaba/fastjson/serializer/ObjectArrayCodec.java b/src/main/java/com/alibaba/fastjson/serializer/ObjectArrayCodec.java\n",
      "index 9b8c0e3c17..77f2d63d98 100755\n",
      "--- a/src/main/java/com/alibaba/fastjson/serializer/ObjectArrayCodec.java\n",
      "+++ b/src/main/java/com/alibaba/fastjson/serializer/ObjectArrayCodec.java\n",
      "@@ -174,7 +174,7 @@ public <T> T deserialze(DefaultJSONParser parser, Type type, Object fieldName) {\n",
      "componentType = componentClass = clazz.getComponentType();\n",
      "}\n",
      "JSONArray array = new JSONArray();\n",
      "-parser.parseArray(componentClass, array, fieldName);\n",
      "+parser.parseArray(componentType, array, fieldName);\n",
      " \n",
      "return (T) toObjectArray(parser, componentClass, array);\n",
      "}\n",
      "diff --git a/src/test/java/com/alibaba/json/bvt/bug/Issue1005.java b/src/test/java/com/alibaba/json/bvt/bug/Issue1005.java\n",
      "index 2ceb034b87..aec293d74d 100644\n",
      "--- a/src/test/java/com/alibaba/json/bvt/bug/Issue1005.java\n",
      "+++ b/src/test/java/com/alibaba/json/bvt/bug/Issue1005.java\n",
      "@@ -10,7 +10,18 @@\n",
      "*/\n",
      " public class Issue1005 extends TestCase {\n",
      "public void test_for_issue() throws Exception {\n",
      "-Model model = JSON.parseObject(\"{\\\"values\\\":[1,2,3]}\", Model.class);\n",
      "+Model model = JSON.parseObject(\"{\\\"values\\\":[[1,2,3]]}\", Model.class);\n",
      "+\n",
      "+assertNotNull(model.values);\n",
      "+assertEquals(3, model.values[0].size());\n",
      "+assertEquals(Byte.class, model.values[0].get(0).getClass());\n",
      "+assertEquals(Byte.class, model.values[0].get(1).getClass());\n",
      "+assertEquals(Byte.class, model.values[0].get(2).getClass());\n",
      "+}\n",
      "+\n",
      "+public void test_for_List() throws Exception {\n",
      "+Model2 model = JSON.parseObject(\"{\\\"values\\\":[1,2,3]}\", Model2.class);\n",
      "+\n",
      "assertNotNull(model.values);\n",
      "assertEquals(3, model.values.size());\n",
      "assertEquals(Byte.class, model.values.get(0).getClass());\n",
      "@@ -19,6 +30,10 @@ public void test_for_issue() throws Exception {\n",
      "}\n",
      " \n",
      "public static class Model {\n",
      "+public List<Byte>[] values;\n",
      "+}\n",
      "+\n",
      "+public static class Model2 {\n",
      "public List<Byte> values;\n",
      "}\n",
      " }\n"
     ]
    }
   ],
   "source": [
    "    for st in s:\n",
    "        # 删除前导空格，方便后面的操作\n",
    "        st = re.sub(r' {2,}', '', st)\n",
    "        print(st)\n",
    "        #缩进被干掉了"
   ],
   "metadata": {
    "collapsed": false,
    "ExecuteTime": {
     "end_time": "2024-04-27T12:04:40.657344Z",
     "start_time": "2024-04-27T12:04:40.648729Z"
    }
   },
   "id": "77b5aa3428e3ca1d",
   "execution_count": 44
  },
  {
   "cell_type": "code",
   "outputs": [
    {
     "name": "stdout",
     "output_type": "stream",
     "text": [
      "[+]True: diff --git a/src/main/java/com/alibaba/fastjson/serializer/ObjectArrayCodec.java b/src/main/java/com/alibaba/fastjson/serializer/ObjectArrayCodec.java\n",
      "[+]True: diff --git a/src/test/java/com/alibaba/json/bvt/bug/Issue1005.java b/src/test/java/com/alibaba/json/bvt/bug/Issue1005.java\n"
     ]
    }
   ],
   "source": [
    "    for st in s:\n",
    "        # 删除前导空格，方便后面的操作\n",
    "        st = re.sub(r' {2,}', '', st)\n",
    "        #html代码的每一行的所有空格全部替换\n",
    "\n",
    "        # file\n",
    "        if (st.startswith(\"diff\") == True):\n",
    "            print(\"[+]True:\",st)\n",
    "            "
   ],
   "metadata": {
    "collapsed": false,
    "ExecuteTime": {
     "end_time": "2024-04-27T12:04:44.807189Z",
     "start_time": "2024-04-27T12:04:44.804185Z"
    }
   },
   "id": "8e0b83902727d7f6",
   "execution_count": 45
  },
  {
   "cell_type": "markdown",
   "source": [],
   "metadata": {
    "collapsed": false
   },
   "id": "c78169c9e6b70c37"
  },
  {
   "cell_type": "code",
   "outputs": [
    {
     "data": {
      "text/plain": "['diff --git a/src/main/java/com/alibaba/fastjson/serializer/ObjectArrayCodec.java b/src/main/java/com/alibaba/fastjson/serializer/ObjectArrayCodec.java',\n 'diff --git a/src/test/java/com/alibaba/json/bvt/bug/Issue1005.java b/src/test/java/com/alibaba/json/bvt/bug/Issue1005.java']"
     },
     "execution_count": 46,
     "metadata": {},
     "output_type": "execute_result"
    }
   ],
   "source": [
    "new_s1=[]\n",
    "for st in s:\n",
    "    st = re.sub(r' {2,}', '', st)\n",
    "    if st.startswith(\"diff\") == True:\n",
    "        new_s1.append(st)\n",
    "new_s1"
   ],
   "metadata": {
    "collapsed": false,
    "ExecuteTime": {
     "end_time": "2024-04-27T12:04:47.511490Z",
     "start_time": "2024-04-27T12:04:47.502986Z"
    }
   },
   "id": "d2c0e8e4926dcd00",
   "execution_count": 46
  },
  {
   "cell_type": "code",
   "outputs": [
    {
     "name": "stdout",
     "output_type": "stream",
     "text": [
      "[filename]: ObjectArrayCodec.java\n",
      "[html_url]: f5903fa56497c00ed0703ac875b511f9bd5f1d8e.diff\n",
      "[filename]: Issue1005.java\n",
      "[html_url]: f5903fa56497c00ed0703ac875b511f9bd5f1d8e.diff\n"
     ]
    }
   ],
   "source": [
    "for st in new_s1:\n",
    "    match = re.search(r'/([^/]*)$',st)#匹配最后一个斜杠后面的内容\n",
    "    if match:\n",
    "        filename = match.group(1) #拿到filename\n",
    "        print(\"[filename]:\",filename)\n",
    "    match = re.search(r'/([^/]*)$', url)  #从url提取最后一个斜杠的内容，我的感觉是哈希？\n",
    "    if match:\n",
    "        html_url = match.group(1)\n",
    "        print('[html_url]:',html_url)"
   ],
   "metadata": {
    "collapsed": false,
    "ExecuteTime": {
     "end_time": "2024-04-27T12:11:04.428505Z",
     "start_time": "2024-04-27T12:11:04.415950Z"
    }
   },
   "id": "6d9fdbf047920c5f",
   "execution_count": 56
  },
  {
   "cell_type": "code",
   "outputs": [
    {
     "data": {
      "text/plain": "['diff --git a/src/main/java/com/alibaba/fastjson/serializer/ObjectArrayCodec.java b/src/main/java/com/alibaba/fastjson/serializer/ObjectArrayCodec.java',\n 'index 9b8c0e3c17..77f2d63d98 100755',\n '--- a/src/main/java/com/alibaba/fastjson/serializer/ObjectArrayCodec.java',\n '+++ b/src/main/java/com/alibaba/fastjson/serializer/ObjectArrayCodec.java',\n '@@ -174,7 +174,7 @@ public <T> T deserialze(DefaultJSONParser parser, Type type, Object fieldName) {',\n '             componentType = componentClass = clazz.getComponentType();',\n '         }',\n '         JSONArray array = new JSONArray();',\n '-        parser.parseArray(componentClass, array, fieldName);',\n '+        parser.parseArray(componentType, array, fieldName);',\n ' ',\n '         return (T) toObjectArray(parser, componentClass, array);',\n '     }',\n 'diff --git a/src/test/java/com/alibaba/json/bvt/bug/Issue1005.java b/src/test/java/com/alibaba/json/bvt/bug/Issue1005.java',\n 'index 2ceb034b87..aec293d74d 100644',\n '--- a/src/test/java/com/alibaba/json/bvt/bug/Issue1005.java',\n '+++ b/src/test/java/com/alibaba/json/bvt/bug/Issue1005.java',\n '@@ -10,7 +10,18 @@',\n '  */',\n ' public class Issue1005 extends TestCase {',\n '     public void test_for_issue() throws Exception {',\n '-        Model model = JSON.parseObject(\"{\\\\\"values\\\\\":[1,2,3]}\", Model.class);',\n '+        Model model = JSON.parseObject(\"{\\\\\"values\\\\\":[[1,2,3]]}\", Model.class);',\n '+',\n '+        assertNotNull(model.values);',\n '+        assertEquals(3, model.values[0].size());',\n '+        assertEquals(Byte.class, model.values[0].get(0).getClass());',\n '+        assertEquals(Byte.class, model.values[0].get(1).getClass());',\n '+        assertEquals(Byte.class, model.values[0].get(2).getClass());',\n '+    }',\n '+',\n '+    public void test_for_List() throws Exception {',\n '+        Model2 model = JSON.parseObject(\"{\\\\\"values\\\\\":[1,2,3]}\", Model2.class);',\n '+',\n '         assertNotNull(model.values);',\n '         assertEquals(3, model.values.size());',\n '         assertEquals(Byte.class, model.values.get(0).getClass());',\n '@@ -19,6 +30,10 @@ public void test_for_issue() throws Exception {',\n '     }',\n ' ',\n '     public static class Model {',\n '+        public List<Byte>[] values;',\n '+    }',\n '+',\n '+    public static class Model2 {',\n '         public List<Byte> values;',\n '     }',\n ' }']"
     },
     "execution_count": 48,
     "metadata": {},
     "output_type": "execute_result"
    }
   ],
   "source": [
    "s"
   ],
   "metadata": {
    "collapsed": false,
    "ExecuteTime": {
     "end_time": "2024-04-27T12:04:53.088529Z",
     "start_time": "2024-04-27T12:04:53.074307Z"
    }
   },
   "id": "b64c5420699d4086",
   "execution_count": 48
  },
  {
   "cell_type": "code",
   "outputs": [],
   "source": [
    "for st in s:\n",
    "    \n",
    "    if has_test_case(st):\n",
    "        print(\"[test_case]:\",st)"
   ],
   "metadata": {
    "collapsed": false,
    "ExecuteTime": {
     "end_time": "2024-04-27T12:07:53.055091Z",
     "start_time": "2024-04-27T12:07:53.052091Z"
    }
   },
   "id": "8cf3226cc17c10a0",
   "execution_count": 54
  },
  {
   "cell_type": "code",
   "outputs": [
    {
     "name": "stdout",
     "output_type": "stream",
     "text": [
      "[java]: diff --git a/src/main/java/com/alibaba/fastjson/serializer/ObjectArrayCodec.java b/src/main/java/com/alibaba/fastjson/serializer/ObjectArrayCodec.java\n",
      "[java]: --- a/src/main/java/com/alibaba/fastjson/serializer/ObjectArrayCodec.java\n",
      "[java]: +++ b/src/main/java/com/alibaba/fastjson/serializer/ObjectArrayCodec.java\n",
      "[java]: diff --git a/src/test/java/com/alibaba/json/bvt/bug/Issue1005.java b/src/test/java/com/alibaba/json/bvt/bug/Issue1005.java\n",
      "[java]: --- a/src/test/java/com/alibaba/json/bvt/bug/Issue1005.java\n",
      "[java]: +++ b/src/test/java/com/alibaba/json/bvt/bug/Issue1005.java\n"
     ]
    }
   ],
   "source": [
    "for st in s:\n",
    "    if st.endswith(\".java\"):\n",
    "        print(\"[java]:\",st)"
   ],
   "metadata": {
    "collapsed": false,
    "ExecuteTime": {
     "end_time": "2024-04-27T12:07:49.073025Z",
     "start_time": "2024-04-27T12:07:49.068521Z"
    }
   },
   "id": "c881a459bd8d7062",
   "execution_count": 53
  },
  {
   "cell_type": "code",
   "outputs": [],
   "source": [
    "filename='ObjectArrayCodec.java'\n",
    "html_url= 'f5903fa56497c00ed0703ac875b511f9bd5f1d8e.diff'\n",
    "\n",
    "    "
   ],
   "metadata": {
    "collapsed": false,
    "ExecuteTime": {
     "end_time": "2024-04-27T12:13:33.771948Z",
     "start_time": "2024-04-27T12:13:33.757376Z"
    }
   },
   "id": "bc048270a38c63c1",
   "execution_count": 57
  },
  {
   "cell_type": "code",
   "outputs": [],
   "source": [
    "    def match_test_file(filename):\n",
    "        assert isinstance(filename, str)\n",
    "        pattern = \"^Test\" + re.escape(str) + \"$\" ##构造正则匹配，匹配test文件\n",
    "        return bool(re.match(pattern, filename))\n",
    "        # return True"
   ],
   "metadata": {
    "collapsed": false,
    "ExecuteTime": {
     "end_time": "2024-04-27T12:13:35.287180Z",
     "start_time": "2024-04-27T12:13:35.271993Z"
    }
   },
   "id": "9426cc2f5835a978",
   "execution_count": 58
  },
  {
   "cell_type": "code",
   "outputs": [
    {
     "name": "stdout",
     "output_type": "stream",
     "text": [
      "123\n",
      "Failed to retrieve repository contents for .\n"
     ]
    }
   ],
   "source": [
    "contents = get_repo_contents(html_url)\n",
    "contents\n",
    "#这里调用没成功，上面是github的接口吗？这里应该返回整个仓库"
   ],
   "metadata": {
    "collapsed": false,
    "ExecuteTime": {
     "end_time": "2024-04-27T12:15:03.632663Z",
     "start_time": "2024-04-27T12:14:56.911143Z"
    }
   },
   "id": "5a63e3b29595991c",
   "execution_count": 59
  },
  {
   "cell_type": "code",
   "outputs": [
    {
     "name": "stdout",
     "output_type": "stream",
     "text": [
      "[st]: @@ -174,7 +174,7 @@ public <T> T deserialze(DefaultJSONParser parser, Type type, Object fieldName) {\n",
      "[stg]: public <T> T deserialze(DefaultJSONParser parser, Type type, Object fieldName)\n",
      "[st]:      public void test_for_issue() throws Exception {\n",
      "[stg]: public void test_for_issue()\n",
      "[st]: +    public void test_for_List() throws Exception {\n",
      "[stg]: public void test_for_List()\n",
      "[st]: @@ -19,6 +30,10 @@ public void test_for_issue() throws Exception {\n",
      "[stg]: public void test_for_issue()\n"
     ]
    }
   ],
   "source": [
    "for st in s:\n",
    "      if st.startswith('-') == False and is_func(st) != -1 and st.find('(') != -1 and st.find(')') != -1 :\n",
    "          print(\"[st]:\",st)\n",
    "#找到函数\n",
    "      if st.startswith('-') == False and is_func(st) != -1 and st.find('(') != -1 and st.find(')') != -1 :\n",
    "          index1 = is_func(st)\n",
    "          index2 = st.find(')')\n",
    "          stg = st[index1 : index2 + 1] \n",
    "          print(\"[stg]:\",stg)"
   ],
   "metadata": {
    "collapsed": false,
    "ExecuteTime": {
     "end_time": "2024-04-27T12:19:21.447660Z",
     "start_time": "2024-04-27T12:19:21.429041Z"
    }
   },
   "id": "a2912d6e19bcd0da",
   "execution_count": 61
  },
  {
   "cell_type": "code",
   "outputs": [
    {
     "name": "stdout",
     "output_type": "stream",
     "text": [
      "[st]: diff --git a/src/main/java/com/alibaba/fastjson/serializer/ObjectArrayCodec.java b/src/main/java/com/alibaba/fastjson/serializer/ObjectArrayCodec.java\n",
      "[st]: index 9b8c0e3c17..77f2d63d98 100755\n",
      "[st]: @@ -174,7 +174,7 @@ public <T> T deserialze(DefaultJSONParser parser, Type type, Object fieldName) {\n",
      "[st]:              componentType = componentClass = clazz.getComponentType();\n",
      "[st]:          }\n",
      "[st]:          JSONArray array = new JSONArray();\n",
      "[st]:  \n",
      "[st]:          return (T) toObjectArray(parser, componentClass, array);\n",
      "[st]:      }\n",
      "[st]: diff --git a/src/test/java/com/alibaba/json/bvt/bug/Issue1005.java b/src/test/java/com/alibaba/json/bvt/bug/Issue1005.java\n",
      "[st]: index 2ceb034b87..aec293d74d 100644\n",
      "[st]: @@ -10,7 +10,18 @@\n",
      "[st]:   */\n",
      "[st]:  public class Issue1005 extends TestCase {\n",
      "[st]:      public void test_for_issue() throws Exception {\n",
      "[st]:          assertNotNull(model.values);\n",
      "[st]:          assertEquals(3, model.values.size());\n",
      "[st]:          assertEquals(Byte.class, model.values.get(0).getClass());\n",
      "[st]: @@ -19,6 +30,10 @@ public void test_for_issue() throws Exception {\n",
      "[st]:      }\n",
      "[st]:  \n",
      "[st]:      public static class Model {\n",
      "[st]:          public List<Byte> values;\n",
      "[st]:      }\n",
      "[st]:  }\n"
     ]
    }
   ],
   "source": [
    "for st in s:\n",
    "     if (st.startswith('+') == 0) and (st.startswith('-') == 0):\n",
    "         print(\"[st]:\",st)\n",
    "##非修改"
   ],
   "metadata": {
    "collapsed": false,
    "ExecuteTime": {
     "end_time": "2024-04-27T12:19:56.019147Z",
     "start_time": "2024-04-27T12:19:56.003132Z"
    }
   },
   "id": "9351ea59dfdeac9f",
   "execution_count": 62
  },
  {
   "cell_type": "code",
   "outputs": [
    {
     "name": "stdout",
     "output_type": "stream",
     "text": [
      "[change]: -        parser.parseArray(componentClass, array, fieldName);\n",
      "[change]: +        parser.parseArray(componentType, array, fieldName);\n",
      "[change]: -        Model model = JSON.parseObject(\"{\\\"values\\\":[1,2,3]}\", Model.class);\n",
      "[change]: +        Model model = JSON.parseObject(\"{\\\"values\\\":[[1,2,3]]}\", Model.class);\n",
      "[change]: +\n",
      "[change]: +        assertNotNull(model.values);\n",
      "[change]: +        assertEquals(3, model.values[0].size());\n",
      "[change]: +        assertEquals(Byte.class, model.values[0].get(0).getClass());\n",
      "[change]: +        assertEquals(Byte.class, model.values[0].get(1).getClass());\n",
      "[change]: +        assertEquals(Byte.class, model.values[0].get(2).getClass());\n",
      "[change]: +    }\n",
      "[change]: +\n",
      "[change]: +    public void test_for_List() throws Exception {\n",
      "[change]: +        Model2 model = JSON.parseObject(\"{\\\"values\\\":[1,2,3]}\", Model2.class);\n",
      "[change]: +\n",
      "[change]: +        public List<Byte>[] values;\n",
      "[change]: +    }\n",
      "[change]: +\n",
      "[change]: +    public static class Model2 {\n"
     ]
    }
   ],
   "source": [
    "new_s2=[]\n",
    "for st in s:\n",
    "    if  ((st.startswith(\"+\") == True and st.startswith(\"+++\") == False) \n",
    "            or (st.startswith(\"-\") == True and st.startswith(\"---\") == False)) and (ischange == 0):\n",
    "        print(\"[change]:\",st)\n",
    "        new_s2.append(st)"
   ],
   "metadata": {
    "collapsed": false,
    "ExecuteTime": {
     "end_time": "2024-04-27T12:21:05.785959Z",
     "start_time": "2024-04-27T12:21:05.775488Z"
    }
   },
   "id": "6d042db677f52d6f",
   "execution_count": 64
  },
  {
   "cell_type": "code",
   "outputs": [],
   "source": [
    "for st in new_s2:\n",
    "     if (st.find(\"import\") != -1) :\n",
    "         print(\"[st]:\",st)"
   ],
   "metadata": {
    "collapsed": false,
    "ExecuteTime": {
     "end_time": "2024-04-27T12:21:33.058576Z",
     "start_time": "2024-04-27T12:21:33.044070Z"
    }
   },
   "id": "a185557dd16a5d61",
   "execution_count": 65
  },
  {
   "cell_type": "code",
   "outputs": [],
   "source": [
    "for st in new_s2:\n",
    "    if st.find(\"//\") == 1:\n",
    "         print(\"[st]:\",st)"
   ],
   "metadata": {
    "collapsed": false,
    "ExecuteTime": {
     "end_time": "2024-04-27T12:22:05.294278Z",
     "start_time": "2024-04-27T12:22:05.284109Z"
    }
   },
   "id": "a77ac7f9e01614aa",
   "execution_count": 66
  },
  {
   "cell_type": "code",
   "outputs": [],
   "source": [
    "for st in new_s2:\n",
    "    if (st.find('/**') == 1) or (st.find('/*') == 1):\n",
    "        print(\"[st]:\",st)\n",
    "        "
   ],
   "metadata": {
    "collapsed": false,
    "ExecuteTime": {
     "end_time": "2024-04-27T12:23:03.019308Z",
     "start_time": "2024-04-27T12:23:03.002801Z"
    }
   },
   "id": "bbc71fade66402d",
   "execution_count": 67
  },
  {
   "cell_type": "code",
   "outputs": [
    {
     "name": "stdout",
     "output_type": "stream",
     "text": [
      "[st]: +\n",
      "[st]: +\n",
      "[st]: +\n",
      "[st]: +\n"
     ]
    }
   ],
   "source": [
    "for st in new_s2:\n",
    "    if len(st)==1:\n",
    "        print(\"[st]:\",st)"
   ],
   "metadata": {
    "collapsed": false,
    "ExecuteTime": {
     "end_time": "2024-04-27T12:23:50.708103Z",
     "start_time": "2024-04-27T12:23:50.694588Z"
    }
   },
   "id": "f9c404c45b4f8bb1",
   "execution_count": 68
  },
  {
   "cell_type": "code",
   "outputs": [],
   "source": [],
   "metadata": {
    "collapsed": false
   },
   "id": "5395e51a57b9903d"
  }
 ],
 "metadata": {
  "kernelspec": {
   "display_name": "Python 3",
   "language": "python",
   "name": "python3"
  },
  "language_info": {
   "codemirror_mode": {
    "name": "ipython",
    "version": 2
   },
   "file_extension": ".py",
   "mimetype": "text/x-python",
   "name": "python",
   "nbconvert_exporter": "python",
   "pygments_lexer": "ipython2",
   "version": "2.7.6"
  }
 },
 "nbformat": 4,
 "nbformat_minor": 5
}
